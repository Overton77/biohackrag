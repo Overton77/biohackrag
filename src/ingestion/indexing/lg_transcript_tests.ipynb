{
 "cells": [
  {
   "cell_type": "code",
   "execution_count": 1,
   "id": "be1bbda5",
   "metadata": {},
   "outputs": [],
   "source": [
    "import os  \n",
    "from langchain_google_genai import ChatGoogleGenerativeAI \n",
    "from langgraph.graph import StateGraph, START, END \n",
    "from typing import Optional, List, Dict, Any, TypedDict, Literal  \n",
    "from dotenv import load_dotenv   \n",
    "import pandas as pd  \n",
    "import numpy as np \n",
    "import nest_asyncio \n",
    "import asyncio \n",
    "import logging \n",
    "\n",
    "\n",
    "load_dotenv() \n",
    "\n",
    "\n",
    "nest_asyncio.apply() \n",
    "\n",
    "\n"
   ]
  },
  {
   "cell_type": "code",
   "execution_count": 2,
   "id": "513a1e83",
   "metadata": {},
   "outputs": [],
   "source": [
    "llm = ChatGoogleGenerativeAI(model=\"gemini-2.0-flash\",api_key=os.getenv(\"GOOGLE_FREE_API_KEY\"))  \n",
    "\n",
    "\n",
    "\n",
    "\n",
    "\n",
    "\n",
    "\n",
    "\n",
    "\n",
    "\n",
    "\n"
   ]
  },
  {
   "cell_type": "code",
   "execution_count": null,
   "id": "692b2fba",
   "metadata": {},
   "outputs": [],
   "source": []
  },
  {
   "cell_type": "code",
   "execution_count": null,
   "id": "da04a98f",
   "metadata": {},
   "outputs": [],
   "source": []
  },
  {
   "cell_type": "code",
   "execution_count": null,
   "id": "1a457363",
   "metadata": {},
   "outputs": [],
   "source": []
  },
  {
   "cell_type": "code",
   "execution_count": null,
   "id": "5c587c45",
   "metadata": {},
   "outputs": [],
   "source": []
  },
  {
   "cell_type": "code",
   "execution_count": null,
   "id": "596453e0",
   "metadata": {},
   "outputs": [],
   "source": []
  }
 ],
 "metadata": {
  "kernelspec": {
   "display_name": ".venv",
   "language": "python",
   "name": "python3"
  },
  "language_info": {
   "codemirror_mode": {
    "name": "ipython",
    "version": 3
   },
   "file_extension": ".py",
   "mimetype": "text/x-python",
   "name": "python",
   "nbconvert_exporter": "python",
   "pygments_lexer": "ipython3",
   "version": "3.12.2"
  }
 },
 "nbformat": 4,
 "nbformat_minor": 5
}
